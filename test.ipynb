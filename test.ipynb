{
 "cells": [
  {
   "cell_type": "code",
   "execution_count": 1,
   "id": "b7ecb118-9481-458d-a6d1-51ec9258c252",
   "metadata": {},
   "outputs": [
    {
     "name": "stdout",
     "output_type": "stream",
     "text": [
      "^C\n"
     ]
    }
   ],
   "source": [
    "!python main.py"
   ]
  },
  {
   "cell_type": "code",
   "execution_count": 5,
   "id": "695f4a32-372a-448b-85e5-cb5f56fa3832",
   "metadata": {},
   "outputs": [
    {
     "name": "stdout",
     "output_type": "stream",
     "text": [
      "Loading data...\n",
      "Building models...\n",
      "Training end-to-end clustering model...\n",
      "Epoch 00 | Recon Loss: 0.1255 | KL Loss: 0.0006\n",
      "Epoch 10 | Recon Loss: 0.0441 | KL Loss: 0.0000\n",
      "Epoch 20 | Recon Loss: 0.0131 | KL Loss: 0.0000\n",
      "Epoch 30 | Recon Loss: 0.0097 | KL Loss: 0.0000\n",
      "Epoch 40 | Recon Loss: 0.0070 | KL Loss: 0.0000\n",
      "Epoch 49 | Recon Loss: 0.0039 | KL Loss: 0.0000\n",
      "Evaluating final cluster assignments...\n",
      "Saved cluster result to views/end2end_transformer.png\n",
      "[End2End Transformer] Evaluation: {'OA': 0.20822479631990246, 'Kappa': 0.0, 'NMI': 0.0, 'ARI': 0.0}\n"
     ]
    }
   ],
   "source": [
    "!python main2.py"
   ]
  },
  {
   "cell_type": "code",
   "execution_count": null,
   "id": "4a0471eb-0151-4591-8104-3f701a2b9c49",
   "metadata": {},
   "outputs": [],
   "source": []
  }
 ],
 "metadata": {
  "kernelspec": {
   "display_name": "Python 3 (ipykernel)",
   "language": "python",
   "name": "python3"
  },
  "language_info": {
   "codemirror_mode": {
    "name": "ipython",
    "version": 3
   },
   "file_extension": ".py",
   "mimetype": "text/x-python",
   "name": "python",
   "nbconvert_exporter": "python",
   "pygments_lexer": "ipython3",
   "version": "3.13.5"
  }
 },
 "nbformat": 4,
 "nbformat_minor": 5
}
